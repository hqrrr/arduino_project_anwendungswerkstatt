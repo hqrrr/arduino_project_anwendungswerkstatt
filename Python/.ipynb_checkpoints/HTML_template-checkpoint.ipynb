{
 "cells": [
  {
   "cell_type": "markdown",
   "metadata": {},
   "source": [
    "## HTML Template"
   ]
  },
  {
   "cell_type": "markdown",
   "metadata": {},
   "source": [
    "### 1. Frontend"
   ]
  },
  {
   "cell_type": "markdown",
   "metadata": {},
   "source": [
    "<!DOCTYPE HTML>\n",
    "<html>\n",
    "Temperature[degC]: 24.00<br />Humidity[%]: 63.00<br />heater_onOff[0:on,1:off]: 0<br />T_set: 30.42<br />is_sitting[0:true,1:false]: 1.00<br />T00_is_chair: 23.00<br />T01_is_chair: 23.10<br />T02_is_chair: 23.00<br />PID Output: 23.50<br /></html>"
   ]
  },
  {
   "cell_type": "markdown",
   "metadata": {},
   "source": [
    "### 2. Source code"
   ]
  },
  {
   "cell_type": "markdown",
   "metadata": {},
   "source": [
    "Jede Datenzeile wird durch `<br />` getrennt"
   ]
  },
  {
   "cell_type": "markdown",
   "metadata": {},
   "source": [
    "```\n",
    "<!DOCTYPE HTML>\n",
    "<html>\n",
    "Temperature[degC]: 24.00<br />Humidity[%]: 63.00<br />heater_onOff[0:on,1:off]: 0<br />T_set: 30.42<br />is_sitting[0:true,1:false]: 1.00<br />T00_is_chair: 23.00<br />T01_is_chair: 23.10<br />T02_is_chair: 23.00<br />PID Output: 23.50<br /></html>\n",
    "```"
   ]
  },
  {
   "cell_type": "markdown",
   "metadata": {},
   "source": [
    "### 3. Beispielcode"
   ]
  },
  {
   "cell_type": "markdown",
   "metadata": {},
   "source": [
    "Hier werden die Daten in einer Liste gespeichert, alternativ können sie auch in dict gespeichert werden."
   ]
  },
  {
   "cell_type": "code",
   "execution_count": 5,
   "metadata": {},
   "outputs": [
    {
     "name": "stdout",
     "output_type": "stream",
     "text": [
      "valueRead_str: <!DOCTYPE HTML>\r\n",
      "<html>\r\n",
      "Temperature[degC]: 24.10<br />Humidity[%]: 63.00<br />heater_onOff[0:on,1:off]: 0<br />T_set: 30.38<br />is_sitting[0:true,1:false]: 1.00<br />T00_is_chair: 23.30<br />T01_is_chair: 23.40<br />T02_is_chair: 23.30<br />PID Output: 100.00<br /></html>\r\n",
      "\n",
      "valueRead_str: Temperature[degC]: 24.10<br />Humidity[%]: 63.00<br />heater_onOff[0:on,1:off]: 0<br />T_set: 30.38<br />is_sitting[0:true,1:false]: 1.00<br />T00_is_chair: 23.30<br />T01_is_chair: 23.40<br />T02_is_chair: 23.30<br />PID Output: 100.00\n",
      "valueRead_list: \n",
      "['Temperature[degC]: 24.10', 'Humidity[%]: 63.00', 'heater_onOff[0:on,1:off]: 0', 'T_set: 30.38', 'is_sitting[0:true,1:false]: 1.00', 'T00_is_chair: 23.30', 'T01_is_chair: 23.40', 'T02_is_chair: 23.30', 'PID Output: 100.00']\n",
      "valueRead_list_1: \n",
      "[['Temperature[degC]', '24.10'], ['Humidity[%]', '63.00'], ['heater_onOff[0:on,1:off]', '0'], ['T_set', '30.38'], ['is_sitting[0:true,1:false]', '1.00'], ['T00_is_chair', '23.30'], ['T01_is_chair', '23.40'], ['T02_is_chair', '23.30'], ['PID Output', '100.00']]\n"
     ]
    }
   ],
   "source": [
    "# -*- coding: utf-8 -*-\n",
    "# =================================\n",
    "# Python 3\n",
    "# Jupyter Notebook 6.1.4\n",
    "# Author: hqrrr\n",
    "# Date of last update: Jan. 2021\n",
    "# =================================\n",
    "\n",
    "import urllib  # get data from an URL\n",
    "\n",
    "# settings of urllib\n",
    "link = \"http://192.168.0.99/\"\n",
    "\n",
    "\n",
    "# reset all lists\n",
    "valueRead_list = []\n",
    "valueRead_list_1 = []\n",
    "\n",
    "# open link\n",
    "f = urllib.request.urlopen(link)\n",
    "\n",
    "\n",
    "# read data and processing\n",
    "valueRead = f.read()  # type: bytes\n",
    "\n",
    "valueRead_str = str(valueRead.decode(\"utf-8\"))  # type bytes -> string\n",
    "print(\"valueRead_str: \" + valueRead_str)\n",
    "\n",
    "valueRead_str = valueRead_str.strip('<!DOCTYPE HTML>/html').strip().strip('<br />/html').strip()  # delete useless characters\n",
    "print(\"valueRead_str: \" + valueRead_str)\n",
    "\n",
    "valueRead_list = valueRead_str.split(\"<br />\")  # split into a list according to <br />\n",
    "print(\"valueRead_list: \")\n",
    "print(valueRead_list)\n",
    "\n",
    "valueRead_list_1 = [i.split(\": \") for i in valueRead_list] # split values and labels in a new list\n",
    "print(\"valueRead_list_1: \")\n",
    "print(valueRead_list_1)"
   ]
  },
  {
   "cell_type": "markdown",
   "metadata": {},
   "source": [
    "### 4. Control logic (Arduino)"
   ]
  },
  {
   "cell_type": "markdown",
   "metadata": {},
   "source": [
    "if \n",
    "\n",
    "heater_onOff = 0 (controlled by user on Arduino_Desk)\n",
    "\n",
    "and \n",
    "\n",
    "T00 & T01 & T02 (readed from Arduino_chair) < T_set (controlled by user on Arduino_Desk)\n",
    "\n",
    "and\n",
    "\n",
    "is_sitting = 0 (readed from Arduino_chair)\n",
    "\n",
    "->\n",
    "\n",
    "Heizmatte anschalten\n",
    "\n",
    "->\n",
    "\n",
    "PID Output ist der Power Output von PI Regler (zwischen 0 - 100, 0:min., 1:max.)"
   ]
  },
  {
   "cell_type": "code",
   "execution_count": null,
   "metadata": {},
   "outputs": [],
   "source": []
  }
 ],
 "metadata": {
  "kernelspec": {
   "display_name": "Python 3",
   "language": "python",
   "name": "python3"
  },
  "language_info": {
   "codemirror_mode": {
    "name": "ipython",
    "version": 3
   },
   "file_extension": ".py",
   "mimetype": "text/x-python",
   "name": "python",
   "nbconvert_exporter": "python",
   "pygments_lexer": "ipython3",
   "version": "3.7.4"
  }
 },
 "nbformat": 4,
 "nbformat_minor": 4
}
