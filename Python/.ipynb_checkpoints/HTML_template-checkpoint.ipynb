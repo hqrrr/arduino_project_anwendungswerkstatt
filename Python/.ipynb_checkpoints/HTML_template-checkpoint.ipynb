{
 "cells": [
  {
   "cell_type": "markdown",
   "metadata": {},
   "source": [
    "## HTML Template"
   ]
  },
  {
   "cell_type": "markdown",
   "metadata": {},
   "source": [
    "### 1. Frontend"
   ]
  },
  {
   "cell_type": "markdown",
   "metadata": {},
   "source": [
    "<!DOCTYPE HTML>\n",
    "<html>\n",
    "Temperature[degC]: 24.40<br />Humidity[%]: 64.00<br />heater_onOff[0:on,1:off]: 0<br />T_set: 30.00<br />is_sitting[0:true,1:false]: 1<br />T00_is_chair: 23.80<br />T01_is_chair: 23.90<br />T02_is_chair: 23.80<br />PID Output: 100.00<br /></html>\n"
   ]
  },
  {
   "cell_type": "markdown",
   "metadata": {},
   "source": [
    "### 2. Source code"
   ]
  },
  {
   "cell_type": "markdown",
   "metadata": {},
   "source": [
    "Jede Datenzeile wird durch `<br />` getrennt"
   ]
  },
  {
   "cell_type": "markdown",
   "metadata": {},
   "source": [
    "```\n",
    "<!DOCTYPE HTML>\n",
    "<html>\n",
    "Temperature[degC]: 24.40<br />Humidity[%]: 64.00<br />heater_onOff[0:on,1:off]: 0<br />T_set: 30.00<br />is_sitting[0:true,1:false]: 1<br />T00_is_chair: 23.80<br />T01_is_chair: 23.90<br />T02_is_chair: 23.80<br />PID Output: 100.00<br /></html>\n",
    "```"
   ]
  },
  {
   "cell_type": "markdown",
   "metadata": {},
   "source": [
    "### 3. Beispielcode"
   ]
  },
  {
   "cell_type": "markdown",
   "metadata": {},
   "source": [
    "Hier werden die Daten in einer Liste gespeichert, alternativ können sie auch in dict gespeichert werden."
   ]
  },
  {
   "cell_type": "code",
   "execution_count": 1,
   "metadata": {},
   "outputs": [
    {
     "name": "stdout",
     "output_type": "stream",
     "text": [
      "valueRead_str: <!DOCTYPE HTML>\r\n",
      "<html>\r\n",
      "Temperature[degC]: 24.50<br />Humidity[%]: 64.00<br />heater_onOff[0:on,1:off]: 0<br />T_set: 30.00<br />is_sitting[0:true,1:false]: 1<br />T00_is_chair: 23.70<br />T01_is_chair: 23.90<br />T02_is_chair: 23.80<br />PID Output: 100.00<br /></html>\r\n",
      "\n",
      "valueRead_str: Temperature[degC]: 24.50<br />Humidity[%]: 64.00<br />heater_onOff[0:on,1:off]: 0<br />T_set: 30.00<br />is_sitting[0:true,1:false]: 1<br />T00_is_chair: 23.70<br />T01_is_chair: 23.90<br />T02_is_chair: 23.80<br />PID Output: 100.00\n",
      "valueRead_list: \n",
      "['Temperature[degC]: 24.50', 'Humidity[%]: 64.00', 'heater_onOff[0:on,1:off]: 0', 'T_set: 30.00', 'is_sitting[0:true,1:false]: 1', 'T00_is_chair: 23.70', 'T01_is_chair: 23.90', 'T02_is_chair: 23.80', 'PID Output: 100.00']\n",
      "valueRead_list_1: \n",
      "[['Temperature[degC]', '24.50'], ['Humidity[%]', '64.00'], ['heater_onOff[0:on,1:off]', '0'], ['T_set', '30.00'], ['is_sitting[0:true,1:false]', '1'], ['T00_is_chair', '23.70'], ['T01_is_chair', '23.90'], ['T02_is_chair', '23.80'], ['PID Output', '100.00']]\n"
     ]
    }
   ],
   "source": [
    "# -*- coding: utf-8 -*-\n",
    "# =================================\n",
    "# Python 3\n",
    "# Jupyter Notebook 6.1.4\n",
    "# Author: hqrrr\n",
    "# Date of last update: Jan. 2021\n",
    "# =================================\n",
    "\n",
    "import urllib  # get data from an URL\n",
    "\n",
    "# settings of urllib\n",
    "link = \"http://192.168.0.99/\"\n",
    "\n",
    "\n",
    "# reset all lists\n",
    "valueRead_list = []\n",
    "valueRead_list_1 = []\n",
    "\n",
    "# open link\n",
    "f = urllib.request.urlopen(link)\n",
    "\n",
    "\n",
    "# read data and processing\n",
    "valueRead = f.read()  # type: bytes\n",
    "\n",
    "valueRead_str = str(valueRead.decode(\"utf-8\"))  # type bytes -> string\n",
    "print(\"valueRead_str: \" + valueRead_str)\n",
    "\n",
    "valueRead_str = valueRead_str.strip('<!DOCTYPE HTML>/html').strip().strip('<br />/html').strip()  # delete useless characters\n",
    "print(\"valueRead_str: \" + valueRead_str)\n",
    "\n",
    "valueRead_list = valueRead_str.split(\"<br />\")  # split into a list according to <br />\n",
    "print(\"valueRead_list: \")\n",
    "print(valueRead_list)\n",
    "\n",
    "valueRead_list_1 = [i.split(\": \") for i in valueRead_list] # split values and labels in a new list\n",
    "print(\"valueRead_list_1: \")\n",
    "print(valueRead_list_1)"
   ]
  },
  {
   "cell_type": "markdown",
   "metadata": {},
   "source": [
    "### 4. Control logic (Arduino)"
   ]
  },
  {
   "cell_type": "markdown",
   "metadata": {},
   "source": [
    "if \n",
    "\n",
    "heater_onOff = 0 (controlled by user on Arduino_Desk)\n",
    "\n",
    "and \n",
    "\n",
    "T00 & T01 & T02 (readed from Arduino_chair) < T_set (controlled by user on Arduino_Desk)\n",
    "\n",
    "and\n",
    "\n",
    "is_sitting = 0 (readed from Arduino_chair)\n",
    "\n",
    "->\n",
    "\n",
    "Heizmatte anschalten\n",
    "\n",
    "->\n",
    "\n",
    "PID Output ist der Power Output von PI Regler (zwischen 0 - 100, 0:min., 1:max.)\n",
    "\n",
    "->\n",
    "\n",
    "Der Output-Wert kontrolliert die Zeit, wie lange die Heizmatte an oder ausgeschaltet ist. Periode: 5s"
   ]
  },
  {
   "cell_type": "markdown",
   "metadata": {},
   "source": [
    "#### Arduino Code: (do not change & run in jupyter notebook)"
   ]
  },
  {
   "cell_type": "code",
   "execution_count": null,
   "metadata": {},
   "outputs": [],
   "source": [
    "void PID_control() {\n",
    "  // PID controller, read Input from sensor(received from Master), compute, write Output to actuator\n",
    "  Input = T_room;\n",
    "  Setpoint = T_set;\n",
    "  heaterPID.Compute();\n",
    "  // Set Power (Output) within 0 and 100 %\n",
    "  Output = constrain(Output, 0, 100);\n",
    "  //analogWrite(3, Output);\n",
    "  \n",
    "  // Output for serial plotter\n",
    "  Serial.print(\"PID Input: \");\n",
    "  Serial.print(Input);\n",
    "  Serial.print(\"   \");\n",
    "  Serial.print(\"PID Output: \");       \n",
    "  Serial.print(Output);\n",
    "  Serial.print(\"   \");\n",
    "  Serial.print(\"PID Setpoint: \");\n",
    "  Serial.println(Setpoint);  \n",
    "\n",
    "  // Prinzip PI Regler ->\n",
    "  // - On        ______         _______           ________\n",
    "  // - Off _____|      |_______|       |_________|        |______\n",
    "  //            /------/               /---------/\n",
    "  //         heatingOn_time          heatingOff_time\n",
    "  // z.B. PID Output = 0 -> heatingOn_time = 0 und heatingOff_time = 5000 (Periode: 5 sec.)\n",
    "  //      PID Output = 100 -> heatingOn_time = 5000 und heatingOff_time = 0.\n",
    "  \n",
    "  heatingOn_time = 5000 * Output / 100;\n",
    "  heatingOff_time = 5000 - heatingOn_time;\n",
    "\n",
    "  if (ds00_temperature < T_set && ds01_temperature < T_set && ds02_temperature < T_set && is_sitting == 0 && heater_onOff == 0){\n",
    "    \n",
    "    analogWrite(mosfetPin, mosfetOn); // Heizmatte anschalten\n",
    "    delay(heatingOn_time); // die Zeit ist abhängig von PID Output\n",
    "    analogWrite(mosfetPin, mosfetOff);\n",
    "    delay(heatingOff_time);\n",
    "  }\n",
    "  else {\n",
    "    analogWrite(mosfetPin, mosfetOff);\n",
    "    delay(5000);\n",
    "  }\n",
    "}"
   ]
  }
 ],
 "metadata": {
  "kernelspec": {
   "display_name": "Python 3",
   "language": "python",
   "name": "python3"
  },
  "language_info": {
   "codemirror_mode": {
    "name": "ipython",
    "version": 3
   },
   "file_extension": ".py",
   "mimetype": "text/x-python",
   "name": "python",
   "nbconvert_exporter": "python",
   "pygments_lexer": "ipython3",
   "version": "3.7.4"
  }
 },
 "nbformat": 4,
 "nbformat_minor": 4
}
